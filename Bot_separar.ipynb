{
 "cells": [
  {
   "cell_type": "code",
   "execution_count": 2,
   "metadata": {},
   "outputs": [],
   "source": [
    "import cv2\n",
    "import os, sys\n",
    "import glob\n",
    "import numpy as np\n",
    "\n",
    "arquivos = glob.glob(r'../HashTag_Reconhecimento_CAPTCHA/img/destino/*')\n",
    "for arquivo in arquivos:\n",
    "   #tratamento da imagem \n",
    "    imagem = cv2.imread(arquivo)\n",
    "    imagem = cv2.cvtColor(imagem, cv2.COLOR_RGB2GRAY)\n",
    "    _, nova_imagem = cv2.threshold(imagem, 0, 255, cv2.THRESH_BINARY_INV)\n",
    "    \n",
    "    #contorno de cada letra\n",
    "    contornos,_ = cv2.findContours(nova_imagem, cv2.RETR_EXTERNAL, cv2.CHAIN_APPROX_SIMPLE)  \n",
    "    regiao_letras = []\n",
    "\n",
    "    #filtrar os contornos\n",
    "    for contorno in contornos:\n",
    "        (x, y, largura, altura) = cv2.boundingRect(contorno)\n",
    "        area = cv2.contourArea(contorno)\n",
    "        if area > 20:\n",
    "            regiao_letras.append((x, y, largura, altura))\n",
    "    \n",
    "    #Desenhar os contronos e separar letras\n",
    "    imagem_final = cv2.merge([imagem] * 3)\n",
    "    i = 1\n",
    "    for retangulo in regiao_letras:\n",
    "        x, y, largura, altura = retangulo\n",
    "        imagem_letra = imagem[y-2:y+altura+2 , x-2:x+largura+2] #colocando margem no retangulo\n",
    "        i = i+1 \n",
    "        \n",
    "        nome_arquivo = os.path.basename(arquivo).replace(\".png\", f\"letra_{i}.png\")\n",
    "        try:       \n",
    "            cv2.imwrite(f\"../HashTag_Reconhecimento_CAPTCHA/img/letras/{nome_arquivo}\", imagem_letra)\n",
    "        except:\n",
    "            continue\n",
    "        cv2.rectangle(imagem_final,(x-2,y-2),(x+largura+2,y+altura+2),(0,255,0),(1))\n",
    "    \n",
    "    nome_arquivo = os.path.basename(arquivo)\n",
    "    cv2.imwrite(f\"../HashTag_Reconhecimento_CAPTCHA/img/identificado/{nome_arquivo}\", imagem_final)    \n",
    "\n",
    "\n"
   ]
  },
  {
   "cell_type": "code",
   "execution_count": null,
   "metadata": {},
   "outputs": [],
   "source": [
    "for arquivo in arquivos:\n",
    "   #tratamento da imagem \n",
    "    imagem = cv2.imread(arquivo)\n",
    "    imagem = cv2.cvtColor(imagem, cv2.COLOR_RGB2GRAY)\n",
    "    _, imagem = cv2.threshold(imagem, 0, 255, cv2.THRESH_BINARY)\n",
    "    \n",
    "    #contorno de cada letra\n",
    "    contornos, _ = cv2.findContours(imagem, cv2.RETR_EXTERNAL, cv2.CHAIN_APPROX_SIMPLE)  \n",
    "    regiao_letras = []\n",
    "\n",
    "    #filtrar os contornos\n",
    "    for contorno in contornos:\n",
    "        (x, y, largura, altura) = cv2.boundingRect(contorno)\n",
    "        area = cv2.contourArea(contorno)\n",
    "        if area > 20:\n",
    "            regiao_letras.append((x, y, largura, altura))\n",
    "    \n",
    "    #desenhar os contornos \n",
    "    imagem_final = cv2.merge([imagem]*3)\n",
    "    i=0\n",
    "    for retangulo in regiao_letras:\n",
    "        x, y, largura, altura = retangulo\n",
    "        imagem_letra = imagem[y:y+altura , x:x+largura] #colocando margem no retangulo\n",
    "        i +=1 \n",
    "        nome_arquivo =os.path.basename(arquivo).replace(\".png\", f\"letra{i}.png\")\n",
    "        cv2.imwrite(f'../HashTag_Reconhecimento_CAPTCHA/img/letras/{nome_arquivo}',imagem_letra)\n",
    "        \n",
    "        cv2.rectangle(imagem_final,(x,y),(x+largura,y+altura),(0,255,0),1)\n",
    "    \n",
    "    nome_arquivo = os.path.basename(arquivo)\n",
    "    cv2.imwhite(f\"../HashTag_Reconhecimento_CAPTCHA/img/identificado/{nome_arquivo}\",imagem_final)    \n",
    "\n",
    "\n",
    "\n",
    "\n"
   ]
  },
  {
   "cell_type": "code",
   "execution_count": null,
   "metadata": {},
   "outputs": [],
   "source": []
  }
 ],
 "metadata": {
  "kernelspec": {
   "display_name": "Python 3.9.12 ('base')",
   "language": "python",
   "name": "python3"
  },
  "language_info": {
   "codemirror_mode": {
    "name": "ipython",
    "version": 3
   },
   "file_extension": ".py",
   "mimetype": "text/x-python",
   "name": "python",
   "nbconvert_exporter": "python",
   "pygments_lexer": "ipython3",
   "version": "3.9.12"
  },
  "orig_nbformat": 4,
  "vscode": {
   "interpreter": {
    "hash": "daefdd352b271c3d14e155b13dd66aa6af60dc8f125bf3f5b458163bb8ef8801"
   }
  }
 },
 "nbformat": 4,
 "nbformat_minor": 2
}
