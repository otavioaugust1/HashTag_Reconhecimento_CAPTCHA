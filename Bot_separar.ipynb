{
 "cells": [
  {
   "cell_type": "code",
   "execution_count": 5,
   "metadata": {},
   "outputs": [
    {
     "ename": "error",
     "evalue": "OpenCV(4.6.0) D:\\a\\opencv-python\\opencv-python\\opencv\\modules\\imgcodecs\\src\\loadsave.cpp:801: error: (-215:Assertion failed) !_img.empty() in function 'cv::imwrite'\n",
     "output_type": "error",
     "traceback": [
      "\u001b[1;31m---------------------------------------------------------------------------\u001b[0m",
      "\u001b[1;31merror\u001b[0m                                     Traceback (most recent call last)",
      "\u001b[1;32mc:\\Users\\otavi\\GitHub\\HashTag_Reconhecimento_CAPTCHA\\Bot_separar.ipynb Célula: 1\u001b[0m in \u001b[0;36m<cell line: 8>\u001b[1;34m()\u001b[0m\n\u001b[0;32m     <a href='vscode-notebook-cell:/c%3A/Users/otavi/GitHub/HashTag_Reconhecimento_CAPTCHA/Bot_separar.ipynb#W0sZmlsZQ%3D%3D?line=30'>31</a>\u001b[0m     i \u001b[39m+\u001b[39m\u001b[39m=\u001b[39m \u001b[39m1\u001b[39m \n\u001b[0;32m     <a href='vscode-notebook-cell:/c%3A/Users/otavi/GitHub/HashTag_Reconhecimento_CAPTCHA/Bot_separar.ipynb#W0sZmlsZQ%3D%3D?line=31'>32</a>\u001b[0m     nome_arquivo \u001b[39m=\u001b[39m os\u001b[39m.\u001b[39mpath\u001b[39m.\u001b[39mbasename(arquivo)\u001b[39m.\u001b[39mreplace(\u001b[39m\"\u001b[39m\u001b[39m.png\u001b[39m\u001b[39m\"\u001b[39m, \u001b[39mf\u001b[39m\u001b[39m\"\u001b[39m\u001b[39mletra_\u001b[39m\u001b[39m{\u001b[39;00mi\u001b[39m}\u001b[39;00m\u001b[39m.png\u001b[39m\u001b[39m\"\u001b[39m)\n\u001b[1;32m---> <a href='vscode-notebook-cell:/c%3A/Users/otavi/GitHub/HashTag_Reconhecimento_CAPTCHA/Bot_separar.ipynb#W0sZmlsZQ%3D%3D?line=32'>33</a>\u001b[0m     cv2\u001b[39m.\u001b[39;49mimwrite(\u001b[39mf\u001b[39;49m\u001b[39m\"\u001b[39;49m\u001b[39m../HashTag_Reconhecimento_CAPTCHA/img/letras/\u001b[39;49m\u001b[39m{\u001b[39;49;00mnome_arquivo\u001b[39m}\u001b[39;49;00m\u001b[39m\"\u001b[39;49m, imagem_letra)\n\u001b[0;32m     <a href='vscode-notebook-cell:/c%3A/Users/otavi/GitHub/HashTag_Reconhecimento_CAPTCHA/Bot_separar.ipynb#W0sZmlsZQ%3D%3D?line=34'>35</a>\u001b[0m     cv2\u001b[39m.\u001b[39mrectangle(imagem_final,(x\u001b[39m-\u001b[39m\u001b[39m2\u001b[39m,y\u001b[39m-\u001b[39m\u001b[39m2\u001b[39m),(x\u001b[39m+\u001b[39mlargura\u001b[39m+\u001b[39m\u001b[39m2\u001b[39m,y\u001b[39m+\u001b[39maltura\u001b[39m+\u001b[39m\u001b[39m2\u001b[39m),(\u001b[39m0\u001b[39m,\u001b[39m255\u001b[39m,\u001b[39m0\u001b[39m))\n\u001b[0;32m     <a href='vscode-notebook-cell:/c%3A/Users/otavi/GitHub/HashTag_Reconhecimento_CAPTCHA/Bot_separar.ipynb#W0sZmlsZQ%3D%3D?line=36'>37</a>\u001b[0m nome_arquivo \u001b[39m=\u001b[39m os\u001b[39m.\u001b[39mpath\u001b[39m.\u001b[39mbasename(arquivo)\n",
      "\u001b[1;31merror\u001b[0m: OpenCV(4.6.0) D:\\a\\opencv-python\\opencv-python\\opencv\\modules\\imgcodecs\\src\\loadsave.cpp:801: error: (-215:Assertion failed) !_img.empty() in function 'cv::imwrite'\n"
     ]
    }
   ],
   "source": [
    "import cv2\n",
    "import os\n",
    "import glob\n",
    "import sys\n",
    "import numpy as np\n",
    "\n",
    "arquivos = glob.glob(r'../HashTag_Reconhecimento_CAPTCHA/img/destino/*')\n",
    "for arquivo in arquivos:\n",
    "   #tratamento da imagem \n",
    "    imagem = cv2.imread(arquivo)\n",
    "    imagem = cv2.cvtColor(imagem, cv2.COLOR_RGB2GRAY)\n",
    "    _, nova_imagem = cv2.threshold(imagem, 0, 255, cv2.THRESH_BINARY_INV)\n",
    "    \n",
    "    #contorno de cada letra\n",
    "    contornos,_ = cv2.findContours(nova_imagem, cv2.RETR_EXTERNAL, cv2.CHAIN_APPROX_SIMPLE)  \n",
    "    regiao_letras = []\n",
    "\n",
    "    #filtrar os contornos\n",
    "    for contorno in contornos:\n",
    "        (x, y, largura, altura) = cv2.boundingRect(contorno)\n",
    "        area = cv2.contourArea(contorno)\n",
    "        if area > 20:\n",
    "            regiao_letras.append((x, y, largura, altura))\n",
    "    \n",
    "    #desenhar os contornos \n",
    "    imagem_final = cv2.merge([imagem] * 3)\n",
    "    i = 0\n",
    "    for retangulo in regiao_letras:\n",
    "        x, y, largura, altura = retangulo\n",
    "        imagem_letra = imagem[y-2:y+altura+2 , x-2:x+largura+2] #colocando margem no retangulo\n",
    "        i += 1 \n",
    "        nome_arquivo = os.path.basename(arquivo).replace(\".png\", f\"letra_{i}.png\")\n",
    "        cv2.imwrite(f\"../HashTag_Reconhecimento_CAPTCHA/img/letras/{nome_arquivo}\", imagem_letra)\n",
    "        \n",
    "        cv2.rectangle(imagem_final,(x-2,y-2),(x+largura+2,y+altura+2),(0,255,0))\n",
    "    \n",
    "    nome_arquivo = os.path.basename(arquivo)\n",
    "    cv2.imwrite(f\"../HashTag_Reconhecimento_CAPTCHA/img/identificado/{nome_arquivo}\", imagem_final)    \n",
    "\n",
    "\n"
   ]
  },
  {
   "cell_type": "code",
   "execution_count": null,
   "metadata": {},
   "outputs": [],
   "source": [
    "for arquivo in arquivos:\n",
    "   #tratamento da imagem \n",
    "    imagem = cv2.imread(arquivo)\n",
    "    imagem = cv2.cvtColor(imagem, cv2.COLOR_RGB2GRAY)\n",
    "    _, imagem = cv2.threshold(imagem, 0, 255, cv2.THRESH_BINARY)\n",
    "    \n",
    "    #contorno de cada letra\n",
    "    contornos, _ = cv2.findContours(imagem, cv2.RETR_EXTERNAL, cv2.CHAIN_APPROX_SIMPLE)  \n",
    "    regiao_letras = []\n",
    "\n",
    "    #filtrar os contornos\n",
    "    for contorno in contornos:\n",
    "        (x, y, largura, altura) = cv2.boundingRect(contorno)\n",
    "        area = cv2.contourArea(contorno)\n",
    "        if area > 20:\n",
    "            regiao_letras.append((x, y, largura, altura))\n",
    "    \n",
    "    #desenhar os contornos \n",
    "    imagem_final = cv2.merge([imagem]*3)\n",
    "    i=0\n",
    "    for retangulo in regiao_letras:\n",
    "        x, y, largura, altura = retangulo\n",
    "        imagem_letra = imagem[y:y+altura , x:x+largura] #colocando margem no retangulo\n",
    "        i +=1 \n",
    "        nome_arquivo =os.path.basename(arquivo).replace(\".png\", f\"letra{i}.png\")\n",
    "        cv2.imwrite(f'../HashTag_Reconhecimento_CAPTCHA/img/letras/{nome_arquivo}',imagem_letra)\n",
    "        \n",
    "        cv2.rectangle(imagem_final,(x,y),(x+largura,y+altura),(0,255,0),1)\n",
    "    \n",
    "    nome_arquivo = os.path.basename(arquivo)\n",
    "    cv2.imwhite(f\"../HashTag_Reconhecimento_CAPTCHA/img/identificado/{nome_arquivo}\",imagem_final)    \n",
    "\n",
    "\n",
    "\n",
    "\n"
   ]
  },
  {
   "cell_type": "code",
   "execution_count": null,
   "metadata": {},
   "outputs": [],
   "source": []
  }
 ],
 "metadata": {
  "kernelspec": {
   "display_name": "Python 3.9.12 ('base')",
   "language": "python",
   "name": "python3"
  },
  "language_info": {
   "codemirror_mode": {
    "name": "ipython",
    "version": 3
   },
   "file_extension": ".py",
   "mimetype": "text/x-python",
   "name": "python",
   "nbconvert_exporter": "python",
   "pygments_lexer": "ipython3",
   "version": "3.9.12"
  },
  "orig_nbformat": 4,
  "vscode": {
   "interpreter": {
    "hash": "daefdd352b271c3d14e155b13dd66aa6af60dc8f125bf3f5b458163bb8ef8801"
   }
  }
 },
 "nbformat": 4,
 "nbformat_minor": 2
}
