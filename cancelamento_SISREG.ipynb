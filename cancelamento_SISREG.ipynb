{
 "cells": [
  {
   "cell_type": "code",
   "execution_count": 1,
   "metadata": {},
   "outputs": [
    {
     "name": "stderr",
     "output_type": "stream",
     "text": [
      "C:\\Users\\otavi\\AppData\\Local\\Temp\\ipykernel_15564\\1594082638.py:12: DeprecationWarning: executable_path has been deprecated, please pass in a Service object\n",
      "  driver = webdriver.Chrome(r\"../Bot_cancelar_SISREG/navergadores/chromedriver.exe\")\n"
     ]
    }
   ],
   "source": [
    "import pandas as pd\n",
    "import time\n",
    "import cv2\n",
    "from selenium import webdriver\n",
    "from selenium.webdriver.common.by import By\n",
    "from selenium.webdriver.common.alert import Alert\n",
    "from selenium.webdriver.support.ui import WebDriverWait\n",
    "from selenium.webdriver.support import expected_conditions as EC\n",
    "from Bot_resolver import quebrar_captcha\n",
    "\n",
    "#abrindo o navegador\n",
    "driver = webdriver.Chrome(r\"../Bot_cancelar_SISREG/navergadores/chromedriver.exe\")\n",
    "driver.get(\"https://sisregiii.saude.gov.br/\")\n",
    "login = driver.find_element(By.XPATH, '//*[@id=\"usuario\"]').send_keys('MINISTERIO_DRAC') \n",
    "senha = driver.find_element(By.XPATH, '//*[@id=\"senha\"]').send_keys('')\n",
    "\n",
    "# Realiza o login, recebendo como parametro o usuario e senha do usuario\n",
    "time.sleep(10)"
   ]
  },
  {
   "cell_type": "code",
   "execution_count": null,
   "metadata": {},
   "outputs": [],
   "source": [
    "#justificativa para cancelar\n",
    "justifica = f\"De acordo com o que reza a Resolução CIB nº 037/2020, de 28/09/2020, que dispõe sobre a Nota Técnica nº 004/2020-Complexo Regulador do Amazonas, tratando acerca do regramento para a depuração das 'filas de espera' de consultas e exames especializados no SISREG, informamos do CANCELAMENTO dessa solicitação, mediante o estabelecido no item 3c que versa:'serão canceladas automaticamente as solicitações com status DEVOLVIDO no SISREG igual ou superior a 90 dias'\""
   ]
  },
  {
   "cell_type": "code",
   "execution_count": null,
   "metadata": {},
   "outputs": [],
   "source": [
    "#importando tabela de devolvidos\n",
    "df = pd.read_csv('../Bot_cancelar_SISREG/dados_fila/BOT_FILA_ESPERA.csv', \n",
    "    dtype={'CENTRAL_REG':'str', 'COD_SOLICITACAO':'str', 'CNES_SOLICITANTE':'str', 'COD_CENTRAL_SOL':'str'})\n",
    "df.info()"
   ]
  },
  {
   "cell_type": "code",
   "execution_count": null,
   "metadata": {},
   "outputs": [],
   "source": [
    "#função de cancelamento - DEVOLVIDAS\n",
    "cont_cancelamento = 0\n",
    "\n",
    "for i, cod_solicitacao in enumerate(df['COD_SOLICITACAO']):\n",
    "    data_devolucao = df.loc[i,'DT_ALTERACAO_S']\n",
    "    try:\n",
    "        driver.get(f'https://sisregiii.saude.gov.br/cgi-bin/gerenciador_solicitacao?etapa=CANCELAR_SOLICITACAO&co_seq_solicitacao={cod_solicitacao}&st_situacao=C&ds_observacao={justifica} Data do ultimo movimento {data_devolucao}')\n",
    "        WebDriverWait(driver, 10).until(EC.alert_is_present())\n",
    "        driver.switch_to.alert.accept()    \n",
    "    except:\n",
    "        continue \n",
    "       \n",
    "    cont_cancelamento += 1\n",
    "    if cont_cancelamento >= 599:\n",
    "        driver.get(\"https://sisregiii.saude.gov.br/\") \n",
    "        time.sleep(1)\n",
    "        \n",
    "\n",
    "\n",
    "\n",
    "\n",
    "\n",
    "\n",
    "\n",
    "\n",
    "        \n",
    "             \n",
    "              \n",
    "        cont_cancelamento = 0\n",
    "    #time.sleep(0.1)\n",
    "    print(i, cont_cancelamento, cod_solicitacao)"
   ]
  },
  {
   "cell_type": "markdown",
   "metadata": {},
   "source": [
    "OUTRAS JUSTIFICATIVAS:"
   ]
  },
  {
   "cell_type": "code",
   "execution_count": null,
   "metadata": {},
   "outputs": [],
   "source": [
    "#justificativa para cancelar\n",
    "justifica = f\"A Central de Regulação Ambulatorial efetuou o cancelamento administrativo desta solicitação por falta de reenvio/reavaliação/resposta/informações registradas pelo profissional Regulador de sua central ao longo do tempo. Recomendamos que, caso o paciente ainda necessite de agendamento para o atendimento, procure a Unidade de Saúde em busca de atendimento, uma nova solicitação deverá ser inserida seguindo a orientação do Regulador e protocolo de acesso vigente.\"\n"
   ]
  },
  {
   "cell_type": "code",
   "execution_count": null,
   "metadata": {},
   "outputs": [],
   "source": []
  },
  {
   "cell_type": "code",
   "execution_count": 2,
   "metadata": {},
   "outputs": [
    {
     "name": "stdout",
     "output_type": "stream",
     "text": [
      "1/1 [==============================] - 0s 125ms/step\n",
      "1/1 [==============================] - 0s 29ms/step\n",
      "1/1 [==============================] - 0s 24ms/step\n",
      "1/1 [==============================] - 0s 27ms/step\n",
      "1/1 [==============================] - 0s 25ms/step\n",
      "yFnBP\n"
     ]
    }
   ],
   "source": [
    "driver.switch_to.frame(1)\n",
    "driver.switch_to.frame(\"ms-form-challenge\")\n",
    "with open('img/resolver/CAPTCHA.png', 'wb') as file:\n",
    "    image_captcha = driver.find_element(By.ID,'image-challenger')\n",
    "    file.write(image_captcha.screenshot_as_png)\n",
    "texto_captcha = quebrar_captcha()\n",
    "campo_text = driver.find_element(By.ID,'challenger-text').send_keys(texto_captcha)\n",
    "\n"
   ]
  },
  {
   "cell_type": "code",
   "execution_count": null,
   "metadata": {},
   "outputs": [],
   "source": [
    "bt_play = driver.find_element(By.ID, 'ms-challenger-validate').click()"
   ]
  },
  {
   "cell_type": "code",
   "execution_count": null,
   "metadata": {},
   "outputs": [],
   "source": [
    "driver.switch_to.frame(0)\n",
    "bt_continuar = driver.find_element(By.XPATH, '/html/body/form/center[4]/input').click()"
   ]
  },
  {
   "cell_type": "code",
   "execution_count": null,
   "metadata": {},
   "outputs": [],
   "source": [
    "\n",
    "bt_continuar = driver.find_element(By.NAME,'btnConfirmar').click()\n"
   ]
  },
  {
   "cell_type": "code",
   "execution_count": null,
   "metadata": {},
   "outputs": [],
   "source": [
    "driver.switch_to.frame(0)"
   ]
  }
 ],
 "metadata": {
  "kernelspec": {
   "display_name": "Python 3.10.8 64-bit (microsoft store)",
   "language": "python",
   "name": "python3"
  },
  "language_info": {
   "codemirror_mode": {
    "name": "ipython",
    "version": 3
   },
   "file_extension": ".py",
   "mimetype": "text/x-python",
   "name": "python",
   "nbconvert_exporter": "python",
   "pygments_lexer": "ipython3",
   "version": "3.10.8"
  },
  "orig_nbformat": 4,
  "vscode": {
   "interpreter": {
    "hash": "f7f8c097c8b77234b1554043a16e456bc3013eb7e1454957444d1d61c725966c"
   }
  }
 },
 "nbformat": 4,
 "nbformat_minor": 2
}
