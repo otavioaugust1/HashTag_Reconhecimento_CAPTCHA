{
 "cells": [
  {
   "cell_type": "code",
   "execution_count": 2,
   "metadata": {},
   "outputs": [
    {
     "name": "stderr",
     "output_type": "stream",
     "text": [
      "C:\\Users\\i5\\AppData\\Local\\Temp\\ipykernel_24756\\3188997935.py:12: DeprecationWarning: executable_path has been deprecated, please pass in a Service object\n",
      "  driver = webdriver.Chrome(r\"navergadores\\chromedriver.exe\")\n"
     ]
    }
   ],
   "source": [
    "import pandas as pd\n",
    "import time\n",
    "import cv2\n",
    "from selenium import webdriver\n",
    "from selenium.webdriver.common.by import By\n",
    "from selenium.webdriver.common.alert import Alert\n",
    "from selenium.webdriver.support.ui import WebDriverWait\n",
    "from selenium.webdriver.support import expected_conditions as EC\n",
    "#from Bot_resolver import quebrar_captcha\n",
    "\n",
    "#abrindo o navegador\n",
    "driver = webdriver.Chrome(r\"navergadores\\chromedriver.exe\")\n",
    "driver.get(\"https://sisregiii.saude.gov.br/\")\n",
    "login = driver.find_element(By.XPATH, '//*[@id=\"usuario\"]').send_keys('MINISTERIO_DRAC') \n",
    "senha = driver.find_element(By.XPATH, '//*[@id=\"senha\"]').send_keys('')\n",
    "\n",
    "# Realiza o login, recebendo como parametro o usuario e senha do usuario\n",
    "time.sleep(10)"
   ]
  },
  {
   "cell_type": "code",
   "execution_count": null,
   "metadata": {},
   "outputs": [],
   "source": [
    "#justificativa para cancelar\n",
    "justifica = f\"De acordo com o que reza a Resolução CIB nº 037/2020, de 28/09/2020, que dispõe sobre a Nota Técnica nº 004/2020-Complexo Regulador do Amazonas, tratando acerca do regramento para a depuração das 'filas de espera' de consultas e exames especializados no SISREG, informamos do CANCELAMENTO dessa solicitação, mediante o estabelecido no item 3c que versa:'serão canceladas automaticamente as solicitações com status DEVOLVIDO no SISREG igual ou superior a 90 dias'\""
   ]
  },
  {
   "cell_type": "code",
   "execution_count": null,
   "metadata": {},
   "outputs": [],
   "source": [
    "#importando tabela de devolvidos\n",
    "df = pd.read_csv('../Bot_cancelar_SISREG/dados_fila/BOT_FILA_ESPERA.csv', \n",
    "    dtype={'CENTRAL_REG':'str', 'COD_SOLICITACAO':'str', 'CNES_SOLICITANTE':'str', 'COD_CENTRAL_SOL':'str'})\n",
    "df.info()"
   ]
  },
  {
   "cell_type": "code",
   "execution_count": null,
   "metadata": {},
   "outputs": [],
   "source": [
    "#função de cancelamento - DEVOLVIDAS\n",
    "cont_cancelamento = 0\n",
    "\n",
    "for i, cod_solicitacao in enumerate(df['COD_SOLICITACAO']):\n",
    "    data_devolucao = df.loc[i,'DT_ALTERACAO_S']\n",
    "    try:\n",
    "        driver.get(f'https://sisregiii.saude.gov.br/cgi-bin/gerenciador_solicitacao?etapa=CANCELAR_SOLICITACAO&co_seq_solicitacao={cod_solicitacao}&st_situacao=C&ds_observacao={justifica} Data do ultimo movimento {data_devolucao}')\n",
    "        WebDriverWait(driver, 10).until(EC.alert_is_present())\n",
    "        driver.switch_to.alert.accept()    \n",
    "    except:\n",
    "        continue \n",
    "       \n",
    "    cont_cancelamento += 1\n",
    "    if cont_cancelamento >= 599:\n",
    "        driver.get(\"https://sisregiii.saude.gov.br/\") \n",
    "        time.sleep(1)\n",
    "        driver.switch_to.frame(1)\n",
    "        driver.switch_to.frame(\"ms-form-challenge\")\n",
    "        with open('img/resolver/CAPTCHA.png', 'wb') as file:\n",
    "            image_captcha = driver.find_element(By.ID,'image-challenger')\n",
    "            file.write(image_captcha.screenshot_as_png)\n",
    "        texto_captcha = quebrar_captcha()\n",
    "        campo_text = driver.find_element(By.ID,'challenger-text').send_keys(texto_captcha)\n",
    "        bt_play = driver.find_element(By.ID, 'ms-challenger-validate').click()\n",
    "        time.sleep(10)           \n",
    "              \n",
    "        cont_cancelamento = 0\n",
    "    #time.sleep(0.1)\n",
    "    print(i, cont_cancelamento, cod_solicitacao)"
   ]
  },
  {
   "cell_type": "markdown",
   "metadata": {},
   "source": [
    "OUTRAS JUSTIFICATIVAS:"
   ]
  },
  {
   "cell_type": "code",
   "execution_count": null,
   "metadata": {},
   "outputs": [],
   "source": [
    "#justificativa para cancelar\n",
    "justifica = f\"A Central de Regulação Ambulatorial efetuou o cancelamento administrativo desta solicitação por falta de reenvio/reavaliação/resposta/informações registradas pelo profissional Regulador de sua central ao longo do tempo. Recomendamos que, caso o paciente ainda necessite de agendamento para o atendimento, procure a Unidade de Saúde em busca de atendimento, uma nova solicitação deverá ser inserida seguindo a orientação do Regulador e protocolo de acesso vigente.\"\n"
   ]
  },
  {
   "cell_type": "code",
   "execution_count": null,
   "metadata": {},
   "outputs": [],
   "source": []
  },
  {
   "cell_type": "code",
   "execution_count": 122,
   "metadata": {},
   "outputs": [],
   "source": [
    "driver.switch_to.frame(1)\n",
    "driver.switch_to.frame(\"ms-form-challenge\")\n",
    "with open('img/resolver/CAPTCHA.png', 'wb') as file:\n",
    "    image_captcha = driver.find_element(By.ID,'image-challenger')\n",
    "    file.write(image_captcha.screenshot_as_png)\n",
    "#texto_captcha = quebrar_captcha()\n",
    "campo_text = driver.find_element(By.ID,'challenger-text').send_keys('texto_captcha')\n",
    "\n"
   ]
  },
  {
   "cell_type": "code",
   "execution_count": 100,
   "metadata": {},
   "outputs": [],
   "source": [
    "bt_play = driver.find_element(By.ID, 'ms-challenger-validate').click()"
   ]
  },
  {
   "cell_type": "code",
   "execution_count": 137,
   "metadata": {},
   "outputs": [],
   "source": [
    "driver.switch_to.default_content()"
   ]
  },
  {
   "cell_type": "code",
   "execution_count": 139,
   "metadata": {},
   "outputs": [
    {
     "ename": "NoSuchFrameException",
     "evalue": "Message: f_main\n",
     "output_type": "error",
     "traceback": [
      "\u001b[1;31m---------------------------------------------------------------------------\u001b[0m",
      "\u001b[1;31mNoSuchElementException\u001b[0m                    Traceback (most recent call last)",
      "File \u001b[1;32m~\\AppData\\Local\\Packages\\PythonSoftwareFoundation.Python.3.9_qbz5n2kfra8p0\\LocalCache\\local-packages\\Python39\\site-packages\\selenium\\webdriver\\remote\\switch_to.py:87\u001b[0m, in \u001b[0;36mSwitchTo.frame\u001b[1;34m(self, frame_reference)\u001b[0m\n\u001b[0;32m     86\u001b[0m \u001b[39mtry\u001b[39;00m:\n\u001b[1;32m---> 87\u001b[0m     frame_reference \u001b[39m=\u001b[39m \u001b[39mself\u001b[39;49m\u001b[39m.\u001b[39;49m_driver\u001b[39m.\u001b[39;49mfind_element(By\u001b[39m.\u001b[39;49mID, frame_reference)\n\u001b[0;32m     88\u001b[0m \u001b[39mexcept\u001b[39;00m NoSuchElementException:\n",
      "File \u001b[1;32m~\\AppData\\Local\\Packages\\PythonSoftwareFoundation.Python.3.9_qbz5n2kfra8p0\\LocalCache\\local-packages\\Python39\\site-packages\\selenium\\webdriver\\remote\\webdriver.py:856\u001b[0m, in \u001b[0;36mWebDriver.find_element\u001b[1;34m(self, by, value)\u001b[0m\n\u001b[0;32m    854\u001b[0m     value \u001b[39m=\u001b[39m \u001b[39m'\u001b[39m\u001b[39m[name=\u001b[39m\u001b[39m\"\u001b[39m\u001b[39m%s\u001b[39;00m\u001b[39m\"\u001b[39m\u001b[39m]\u001b[39m\u001b[39m'\u001b[39m \u001b[39m%\u001b[39m value\n\u001b[1;32m--> 856\u001b[0m \u001b[39mreturn\u001b[39;00m \u001b[39mself\u001b[39;49m\u001b[39m.\u001b[39;49mexecute(Command\u001b[39m.\u001b[39;49mFIND_ELEMENT, {\n\u001b[0;32m    857\u001b[0m     \u001b[39m'\u001b[39;49m\u001b[39musing\u001b[39;49m\u001b[39m'\u001b[39;49m: by,\n\u001b[0;32m    858\u001b[0m     \u001b[39m'\u001b[39;49m\u001b[39mvalue\u001b[39;49m\u001b[39m'\u001b[39;49m: value})[\u001b[39m'\u001b[39m\u001b[39mvalue\u001b[39m\u001b[39m'\u001b[39m]\n",
      "File \u001b[1;32m~\\AppData\\Local\\Packages\\PythonSoftwareFoundation.Python.3.9_qbz5n2kfra8p0\\LocalCache\\local-packages\\Python39\\site-packages\\selenium\\webdriver\\remote\\webdriver.py:429\u001b[0m, in \u001b[0;36mWebDriver.execute\u001b[1;34m(self, driver_command, params)\u001b[0m\n\u001b[0;32m    428\u001b[0m \u001b[39mif\u001b[39;00m response:\n\u001b[1;32m--> 429\u001b[0m     \u001b[39mself\u001b[39;49m\u001b[39m.\u001b[39;49merror_handler\u001b[39m.\u001b[39;49mcheck_response(response)\n\u001b[0;32m    430\u001b[0m     response[\u001b[39m'\u001b[39m\u001b[39mvalue\u001b[39m\u001b[39m'\u001b[39m] \u001b[39m=\u001b[39m \u001b[39mself\u001b[39m\u001b[39m.\u001b[39m_unwrap_value(\n\u001b[0;32m    431\u001b[0m         response\u001b[39m.\u001b[39mget(\u001b[39m'\u001b[39m\u001b[39mvalue\u001b[39m\u001b[39m'\u001b[39m, \u001b[39mNone\u001b[39;00m))\n",
      "File \u001b[1;32m~\\AppData\\Local\\Packages\\PythonSoftwareFoundation.Python.3.9_qbz5n2kfra8p0\\LocalCache\\local-packages\\Python39\\site-packages\\selenium\\webdriver\\remote\\errorhandler.py:243\u001b[0m, in \u001b[0;36mErrorHandler.check_response\u001b[1;34m(self, response)\u001b[0m\n\u001b[0;32m    242\u001b[0m     \u001b[39mraise\u001b[39;00m exception_class(message, screen, stacktrace, alert_text)  \u001b[39m# type: ignore[call-arg]  # mypy is not smart enough here\u001b[39;00m\n\u001b[1;32m--> 243\u001b[0m \u001b[39mraise\u001b[39;00m exception_class(message, screen, stacktrace)\n",
      "\u001b[1;31mNoSuchElementException\u001b[0m: Message: no such element: Unable to locate element: {\"method\":\"css selector\",\"selector\":\"[id=\"f_main\"]\"}\n  (Session info: chrome=106.0.5249.119)\nStacktrace:\nBacktrace:\n\tOrdinal0 [0x01161ED3+2236115]\n\tOrdinal0 [0x010F92F1+1807089]\n\tOrdinal0 [0x010066FD+812797]\n\tOrdinal0 [0x010355DF+1005023]\n\tOrdinal0 [0x010357CB+1005515]\n\tOrdinal0 [0x01067632+1209906]\n\tOrdinal0 [0x01051AD4+1120980]\n\tOrdinal0 [0x010659E2+1202658]\n\tOrdinal0 [0x010518A6+1120422]\n\tOrdinal0 [0x0102A73D+960317]\n\tOrdinal0 [0x0102B71F+964383]\n\tGetHandleVerifier [0x0140E7E2+2743074]\n\tGetHandleVerifier [0x014008D4+2685972]\n\tGetHandleVerifier [0x011F2BAA+532202]\n\tGetHandleVerifier [0x011F1990+527568]\n\tOrdinal0 [0x0110080C+1837068]\n\tOrdinal0 [0x01104CD8+1854680]\n\tOrdinal0 [0x01104DC5+1854917]\n\tOrdinal0 [0x0110ED64+1895780]\n\tBaseThreadInitThunk [0x76F1FA29+25]\n\tRtlGetAppContainerNamedObjectPath [0x773D7BBE+286]\n\tRtlGetAppContainerNamedObjectPath [0x773D7B8E+238]\n",
      "\nDuring handling of the above exception, another exception occurred:\n",
      "\u001b[1;31mNoSuchElementException\u001b[0m                    Traceback (most recent call last)",
      "File \u001b[1;32m~\\AppData\\Local\\Packages\\PythonSoftwareFoundation.Python.3.9_qbz5n2kfra8p0\\LocalCache\\local-packages\\Python39\\site-packages\\selenium\\webdriver\\remote\\switch_to.py:90\u001b[0m, in \u001b[0;36mSwitchTo.frame\u001b[1;34m(self, frame_reference)\u001b[0m\n\u001b[0;32m     89\u001b[0m \u001b[39mtry\u001b[39;00m:\n\u001b[1;32m---> 90\u001b[0m     frame_reference \u001b[39m=\u001b[39m \u001b[39mself\u001b[39;49m\u001b[39m.\u001b[39;49m_driver\u001b[39m.\u001b[39;49mfind_element(By\u001b[39m.\u001b[39;49mNAME, frame_reference)\n\u001b[0;32m     91\u001b[0m \u001b[39mexcept\u001b[39;00m NoSuchElementException:\n",
      "File \u001b[1;32m~\\AppData\\Local\\Packages\\PythonSoftwareFoundation.Python.3.9_qbz5n2kfra8p0\\LocalCache\\local-packages\\Python39\\site-packages\\selenium\\webdriver\\remote\\webdriver.py:856\u001b[0m, in \u001b[0;36mWebDriver.find_element\u001b[1;34m(self, by, value)\u001b[0m\n\u001b[0;32m    854\u001b[0m     value \u001b[39m=\u001b[39m \u001b[39m'\u001b[39m\u001b[39m[name=\u001b[39m\u001b[39m\"\u001b[39m\u001b[39m%s\u001b[39;00m\u001b[39m\"\u001b[39m\u001b[39m]\u001b[39m\u001b[39m'\u001b[39m \u001b[39m%\u001b[39m value\n\u001b[1;32m--> 856\u001b[0m \u001b[39mreturn\u001b[39;00m \u001b[39mself\u001b[39;49m\u001b[39m.\u001b[39;49mexecute(Command\u001b[39m.\u001b[39;49mFIND_ELEMENT, {\n\u001b[0;32m    857\u001b[0m     \u001b[39m'\u001b[39;49m\u001b[39musing\u001b[39;49m\u001b[39m'\u001b[39;49m: by,\n\u001b[0;32m    858\u001b[0m     \u001b[39m'\u001b[39;49m\u001b[39mvalue\u001b[39;49m\u001b[39m'\u001b[39;49m: value})[\u001b[39m'\u001b[39m\u001b[39mvalue\u001b[39m\u001b[39m'\u001b[39m]\n",
      "File \u001b[1;32m~\\AppData\\Local\\Packages\\PythonSoftwareFoundation.Python.3.9_qbz5n2kfra8p0\\LocalCache\\local-packages\\Python39\\site-packages\\selenium\\webdriver\\remote\\webdriver.py:429\u001b[0m, in \u001b[0;36mWebDriver.execute\u001b[1;34m(self, driver_command, params)\u001b[0m\n\u001b[0;32m    428\u001b[0m \u001b[39mif\u001b[39;00m response:\n\u001b[1;32m--> 429\u001b[0m     \u001b[39mself\u001b[39;49m\u001b[39m.\u001b[39;49merror_handler\u001b[39m.\u001b[39;49mcheck_response(response)\n\u001b[0;32m    430\u001b[0m     response[\u001b[39m'\u001b[39m\u001b[39mvalue\u001b[39m\u001b[39m'\u001b[39m] \u001b[39m=\u001b[39m \u001b[39mself\u001b[39m\u001b[39m.\u001b[39m_unwrap_value(\n\u001b[0;32m    431\u001b[0m         response\u001b[39m.\u001b[39mget(\u001b[39m'\u001b[39m\u001b[39mvalue\u001b[39m\u001b[39m'\u001b[39m, \u001b[39mNone\u001b[39;00m))\n",
      "File \u001b[1;32m~\\AppData\\Local\\Packages\\PythonSoftwareFoundation.Python.3.9_qbz5n2kfra8p0\\LocalCache\\local-packages\\Python39\\site-packages\\selenium\\webdriver\\remote\\errorhandler.py:243\u001b[0m, in \u001b[0;36mErrorHandler.check_response\u001b[1;34m(self, response)\u001b[0m\n\u001b[0;32m    242\u001b[0m     \u001b[39mraise\u001b[39;00m exception_class(message, screen, stacktrace, alert_text)  \u001b[39m# type: ignore[call-arg]  # mypy is not smart enough here\u001b[39;00m\n\u001b[1;32m--> 243\u001b[0m \u001b[39mraise\u001b[39;00m exception_class(message, screen, stacktrace)\n",
      "\u001b[1;31mNoSuchElementException\u001b[0m: Message: no such element: Unable to locate element: {\"method\":\"css selector\",\"selector\":\"[name=\"f_main\"]\"}\n  (Session info: chrome=106.0.5249.119)\nStacktrace:\nBacktrace:\n\tOrdinal0 [0x01161ED3+2236115]\n\tOrdinal0 [0x010F92F1+1807089]\n\tOrdinal0 [0x010066FD+812797]\n\tOrdinal0 [0x010355DF+1005023]\n\tOrdinal0 [0x010357CB+1005515]\n\tOrdinal0 [0x01067632+1209906]\n\tOrdinal0 [0x01051AD4+1120980]\n\tOrdinal0 [0x010659E2+1202658]\n\tOrdinal0 [0x010518A6+1120422]\n\tOrdinal0 [0x0102A73D+960317]\n\tOrdinal0 [0x0102B71F+964383]\n\tGetHandleVerifier [0x0140E7E2+2743074]\n\tGetHandleVerifier [0x014008D4+2685972]\n\tGetHandleVerifier [0x011F2BAA+532202]\n\tGetHandleVerifier [0x011F1990+527568]\n\tOrdinal0 [0x0110080C+1837068]\n\tOrdinal0 [0x01104CD8+1854680]\n\tOrdinal0 [0x01104DC5+1854917]\n\tOrdinal0 [0x0110ED64+1895780]\n\tBaseThreadInitThunk [0x76F1FA29+25]\n\tRtlGetAppContainerNamedObjectPath [0x773D7BBE+286]\n\tRtlGetAppContainerNamedObjectPath [0x773D7B8E+238]\n",
      "\nDuring handling of the above exception, another exception occurred:\n",
      "\u001b[1;31mNoSuchFrameException\u001b[0m                      Traceback (most recent call last)",
      "Cell \u001b[1;32mIn [139], line 2\u001b[0m\n\u001b[0;32m      1\u001b[0m driver\u001b[39m.\u001b[39mswitch_to\u001b[39m.\u001b[39mframe(\u001b[39m0\u001b[39m)\n\u001b[1;32m----> 2\u001b[0m driver\u001b[39m.\u001b[39;49mswitch_to\u001b[39m.\u001b[39;49mframe(\u001b[39m\"\u001b[39;49m\u001b[39mf_main\u001b[39;49m\u001b[39m\"\u001b[39;49m)\n",
      "File \u001b[1;32m~\\AppData\\Local\\Packages\\PythonSoftwareFoundation.Python.3.9_qbz5n2kfra8p0\\LocalCache\\local-packages\\Python39\\site-packages\\selenium\\webdriver\\remote\\switch_to.py:92\u001b[0m, in \u001b[0;36mSwitchTo.frame\u001b[1;34m(self, frame_reference)\u001b[0m\n\u001b[0;32m     90\u001b[0m             frame_reference \u001b[39m=\u001b[39m \u001b[39mself\u001b[39m\u001b[39m.\u001b[39m_driver\u001b[39m.\u001b[39mfind_element(By\u001b[39m.\u001b[39mNAME, frame_reference)\n\u001b[0;32m     91\u001b[0m         \u001b[39mexcept\u001b[39;00m NoSuchElementException:\n\u001b[1;32m---> 92\u001b[0m             \u001b[39mraise\u001b[39;00m NoSuchFrameException(frame_reference)\n\u001b[0;32m     94\u001b[0m \u001b[39mself\u001b[39m\u001b[39m.\u001b[39m_driver\u001b[39m.\u001b[39mexecute(Command\u001b[39m.\u001b[39mSWITCH_TO_FRAME, {\u001b[39m'\u001b[39m\u001b[39mid\u001b[39m\u001b[39m'\u001b[39m: frame_reference})\n",
      "\u001b[1;31mNoSuchFrameException\u001b[0m: Message: f_main\n"
     ]
    }
   ],
   "source": [
    "driver.switch_to.frame(0)\n",
    "driver.switch_to.frame(\"f_main\")\n",
    "\n"
   ]
  },
  {
   "cell_type": "code",
   "execution_count": null,
   "metadata": {},
   "outputs": [],
   "source": [
    "bt_continuar = driver.find_element(By.NAME,'btnConfirmar')"
   ]
  },
  {
   "cell_type": "code",
   "execution_count": 116,
   "metadata": {},
   "outputs": [
    {
     "ename": "NoSuchElementException",
     "evalue": "Message: no such element: Unable to locate element: {\"method\":\"css selector\",\"selector\":\"[id=\"ms-captcha\"]\"}\n  (Session info: chrome=106.0.5249.119)\nStacktrace:\nBacktrace:\n\tOrdinal0 [0x01161ED3+2236115]\n\tOrdinal0 [0x010F92F1+1807089]\n\tOrdinal0 [0x010066FD+812797]\n\tOrdinal0 [0x010355DF+1005023]\n\tOrdinal0 [0x010357CB+1005515]\n\tOrdinal0 [0x01067632+1209906]\n\tOrdinal0 [0x01051AD4+1120980]\n\tOrdinal0 [0x010659E2+1202658]\n\tOrdinal0 [0x010518A6+1120422]\n\tOrdinal0 [0x0102A73D+960317]\n\tOrdinal0 [0x0102B71F+964383]\n\tGetHandleVerifier [0x0140E7E2+2743074]\n\tGetHandleVerifier [0x014008D4+2685972]\n\tGetHandleVerifier [0x011F2BAA+532202]\n\tGetHandleVerifier [0x011F1990+527568]\n\tOrdinal0 [0x0110080C+1837068]\n\tOrdinal0 [0x01104CD8+1854680]\n\tOrdinal0 [0x01104DC5+1854917]\n\tOrdinal0 [0x0110ED64+1895780]\n\tBaseThreadInitThunk [0x76F1FA29+25]\n\tRtlGetAppContainerNamedObjectPath [0x773D7BBE+286]\n\tRtlGetAppContainerNamedObjectPath [0x773D7B8E+238]\n",
     "output_type": "error",
     "traceback": [
      "\u001b[1;31m---------------------------------------------------------------------------\u001b[0m",
      "\u001b[1;31mNoSuchElementException\u001b[0m                    Traceback (most recent call last)",
      "Cell \u001b[1;32mIn [116], line 1\u001b[0m\n\u001b[1;32m----> 1\u001b[0m bt_cont \u001b[39m=\u001b[39m driver\u001b[39m.\u001b[39;49mfind_element(By\u001b[39m.\u001b[39;49mID, \u001b[39m'\u001b[39;49m\u001b[39mms-captcha\u001b[39;49m\u001b[39m'\u001b[39;49m)\u001b[39m.\u001b[39mclick()\n",
      "File \u001b[1;32m~\\AppData\\Local\\Packages\\PythonSoftwareFoundation.Python.3.9_qbz5n2kfra8p0\\LocalCache\\local-packages\\Python39\\site-packages\\selenium\\webdriver\\remote\\webdriver.py:856\u001b[0m, in \u001b[0;36mWebDriver.find_element\u001b[1;34m(self, by, value)\u001b[0m\n\u001b[0;32m    853\u001b[0m     by \u001b[39m=\u001b[39m By\u001b[39m.\u001b[39mCSS_SELECTOR\n\u001b[0;32m    854\u001b[0m     value \u001b[39m=\u001b[39m \u001b[39m'\u001b[39m\u001b[39m[name=\u001b[39m\u001b[39m\"\u001b[39m\u001b[39m%s\u001b[39;00m\u001b[39m\"\u001b[39m\u001b[39m]\u001b[39m\u001b[39m'\u001b[39m \u001b[39m%\u001b[39m value\n\u001b[1;32m--> 856\u001b[0m \u001b[39mreturn\u001b[39;00m \u001b[39mself\u001b[39;49m\u001b[39m.\u001b[39;49mexecute(Command\u001b[39m.\u001b[39;49mFIND_ELEMENT, {\n\u001b[0;32m    857\u001b[0m     \u001b[39m'\u001b[39;49m\u001b[39musing\u001b[39;49m\u001b[39m'\u001b[39;49m: by,\n\u001b[0;32m    858\u001b[0m     \u001b[39m'\u001b[39;49m\u001b[39mvalue\u001b[39;49m\u001b[39m'\u001b[39;49m: value})[\u001b[39m'\u001b[39m\u001b[39mvalue\u001b[39m\u001b[39m'\u001b[39m]\n",
      "File \u001b[1;32m~\\AppData\\Local\\Packages\\PythonSoftwareFoundation.Python.3.9_qbz5n2kfra8p0\\LocalCache\\local-packages\\Python39\\site-packages\\selenium\\webdriver\\remote\\webdriver.py:429\u001b[0m, in \u001b[0;36mWebDriver.execute\u001b[1;34m(self, driver_command, params)\u001b[0m\n\u001b[0;32m    427\u001b[0m response \u001b[39m=\u001b[39m \u001b[39mself\u001b[39m\u001b[39m.\u001b[39mcommand_executor\u001b[39m.\u001b[39mexecute(driver_command, params)\n\u001b[0;32m    428\u001b[0m \u001b[39mif\u001b[39;00m response:\n\u001b[1;32m--> 429\u001b[0m     \u001b[39mself\u001b[39;49m\u001b[39m.\u001b[39;49merror_handler\u001b[39m.\u001b[39;49mcheck_response(response)\n\u001b[0;32m    430\u001b[0m     response[\u001b[39m'\u001b[39m\u001b[39mvalue\u001b[39m\u001b[39m'\u001b[39m] \u001b[39m=\u001b[39m \u001b[39mself\u001b[39m\u001b[39m.\u001b[39m_unwrap_value(\n\u001b[0;32m    431\u001b[0m         response\u001b[39m.\u001b[39mget(\u001b[39m'\u001b[39m\u001b[39mvalue\u001b[39m\u001b[39m'\u001b[39m, \u001b[39mNone\u001b[39;00m))\n\u001b[0;32m    432\u001b[0m     \u001b[39mreturn\u001b[39;00m response\n",
      "File \u001b[1;32m~\\AppData\\Local\\Packages\\PythonSoftwareFoundation.Python.3.9_qbz5n2kfra8p0\\LocalCache\\local-packages\\Python39\\site-packages\\selenium\\webdriver\\remote\\errorhandler.py:243\u001b[0m, in \u001b[0;36mErrorHandler.check_response\u001b[1;34m(self, response)\u001b[0m\n\u001b[0;32m    241\u001b[0m         alert_text \u001b[39m=\u001b[39m value[\u001b[39m'\u001b[39m\u001b[39malert\u001b[39m\u001b[39m'\u001b[39m]\u001b[39m.\u001b[39mget(\u001b[39m'\u001b[39m\u001b[39mtext\u001b[39m\u001b[39m'\u001b[39m)\n\u001b[0;32m    242\u001b[0m     \u001b[39mraise\u001b[39;00m exception_class(message, screen, stacktrace, alert_text)  \u001b[39m# type: ignore[call-arg]  # mypy is not smart enough here\u001b[39;00m\n\u001b[1;32m--> 243\u001b[0m \u001b[39mraise\u001b[39;00m exception_class(message, screen, stacktrace)\n",
      "\u001b[1;31mNoSuchElementException\u001b[0m: Message: no such element: Unable to locate element: {\"method\":\"css selector\",\"selector\":\"[id=\"ms-captcha\"]\"}\n  (Session info: chrome=106.0.5249.119)\nStacktrace:\nBacktrace:\n\tOrdinal0 [0x01161ED3+2236115]\n\tOrdinal0 [0x010F92F1+1807089]\n\tOrdinal0 [0x010066FD+812797]\n\tOrdinal0 [0x010355DF+1005023]\n\tOrdinal0 [0x010357CB+1005515]\n\tOrdinal0 [0x01067632+1209906]\n\tOrdinal0 [0x01051AD4+1120980]\n\tOrdinal0 [0x010659E2+1202658]\n\tOrdinal0 [0x010518A6+1120422]\n\tOrdinal0 [0x0102A73D+960317]\n\tOrdinal0 [0x0102B71F+964383]\n\tGetHandleVerifier [0x0140E7E2+2743074]\n\tGetHandleVerifier [0x014008D4+2685972]\n\tGetHandleVerifier [0x011F2BAA+532202]\n\tGetHandleVerifier [0x011F1990+527568]\n\tOrdinal0 [0x0110080C+1837068]\n\tOrdinal0 [0x01104CD8+1854680]\n\tOrdinal0 [0x01104DC5+1854917]\n\tOrdinal0 [0x0110ED64+1895780]\n\tBaseThreadInitThunk [0x76F1FA29+25]\n\tRtlGetAppContainerNamedObjectPath [0x773D7BBE+286]\n\tRtlGetAppContainerNamedObjectPath [0x773D7B8E+238]\n"
     ]
    }
   ],
   "source": [
    "bt_cont = driver.find_element(By.ID, 'ms-captcha').click()"
   ]
  }
 ],
 "metadata": {
  "kernelspec": {
   "display_name": "Python 3.9.13 64-bit (microsoft store)",
   "language": "python",
   "name": "python3"
  },
  "language_info": {
   "codemirror_mode": {
    "name": "ipython",
    "version": 3
   },
   "file_extension": ".py",
   "mimetype": "text/x-python",
   "name": "python",
   "nbconvert_exporter": "python",
   "pygments_lexer": "ipython3",
   "version": "3.9.13"
  },
  "orig_nbformat": 4,
  "vscode": {
   "interpreter": {
    "hash": "3373b69d34d391a10a1d025258dd51817cc765669e93ff3a15f47e755afc1ab2"
   }
  }
 },
 "nbformat": 4,
 "nbformat_minor": 2
}
