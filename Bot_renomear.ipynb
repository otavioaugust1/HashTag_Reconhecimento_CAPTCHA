{
 "cells": [
  {
   "cell_type": "code",
   "execution_count": 2,
   "metadata": {},
   "outputs": [
    {
     "name": "stdout",
     "output_type": "stream",
     "text": [
      "['CAPTCHA_100_.png', 'CAPTCHA_101_.png', 'CAPTCHA_102_.png', 'CAPTCHA_103_.png', 'CAPTCHA_104_.png', 'CAPTCHA_105_.png', 'CAPTCHA_106_.png', 'CAPTCHA_107_.png', 'CAPTCHA_108_.png', 'CAPTCHA_109_.png', 'CAPTCHA_10_.png', 'CAPTCHA_110_.png', 'CAPTCHA_111_.png', 'CAPTCHA_112_.png', 'CAPTCHA_113_.png', 'CAPTCHA_114_.png', 'CAPTCHA_115_.png', 'CAPTCHA_116_.png', 'CAPTCHA_117_.png', 'CAPTCHA_118_.png', 'CAPTCHA_119_.png', 'CAPTCHA_11_.png', 'CAPTCHA_120_.png', 'CAPTCHA_121_.png', 'CAPTCHA_122_.png', 'CAPTCHA_123_.png', 'CAPTCHA_124_.png', 'CAPTCHA_125_.png', 'CAPTCHA_126_.png', 'CAPTCHA_127_.png', 'CAPTCHA_128_.png', 'CAPTCHA_129_.png', 'CAPTCHA_12_.png', 'CAPTCHA_130_.png', 'CAPTCHA_131_.png', 'CAPTCHA_132_.png', 'CAPTCHA_133_.png', 'CAPTCHA_134_.png', 'CAPTCHA_135_.png', 'CAPTCHA_136_.png', 'CAPTCHA_137_.png', 'CAPTCHA_138_.png', 'CAPTCHA_139_.png', 'CAPTCHA_13_.png', 'CAPTCHA_140_.png', 'CAPTCHA_141_.png', 'CAPTCHA_142_.png', 'CAPTCHA_143_.png', 'CAPTCHA_144_.png', 'CAPTCHA_145_.png', 'CAPTCHA_146_.png', 'CAPTCHA_147_.png', 'CAPTCHA_148_.png', 'CAPTCHA_149_.png', 'CAPTCHA_14_.png', 'CAPTCHA_150_.png', 'CAPTCHA_151_.png', 'CAPTCHA_152_.png', 'CAPTCHA_153_.png', 'CAPTCHA_154_.png', 'CAPTCHA_155_.png', 'CAPTCHA_156_.png', 'CAPTCHA_157_.png', 'CAPTCHA_158_.png', 'CAPTCHA_159_.png', 'CAPTCHA_15_.png', 'CAPTCHA_160_.png', 'CAPTCHA_161_.png', 'CAPTCHA_162_.png', 'CAPTCHA_163_.png', 'CAPTCHA_164_.png', 'CAPTCHA_165_.png', 'CAPTCHA_166_.png', 'CAPTCHA_167_.png', 'CAPTCHA_168_.png', 'CAPTCHA_169_.png', 'CAPTCHA_16_.png', 'CAPTCHA_170_.png', 'CAPTCHA_171_.png', 'CAPTCHA_172_.png', 'CAPTCHA_173_.png', 'CAPTCHA_174_.png', 'CAPTCHA_175_.png', 'CAPTCHA_176_.png', 'CAPTCHA_177_.png', 'CAPTCHA_178_.png', 'CAPTCHA_179_.png', 'CAPTCHA_17_.png', 'CAPTCHA_180_.png', 'CAPTCHA_181_.png', 'CAPTCHA_182_.png', 'CAPTCHA_183_.png', 'CAPTCHA_184_.png', 'CAPTCHA_185_.png', 'CAPTCHA_186_.png', 'CAPTCHA_187_.png', 'CAPTCHA_188_.png', 'CAPTCHA_189_.png', 'CAPTCHA_18_.png', 'CAPTCHA_190_.png', 'CAPTCHA_191_.png', 'CAPTCHA_192_.png', 'CAPTCHA_193_.png', 'CAPTCHA_194_.png', 'CAPTCHA_195_.png', 'CAPTCHA_196_.png', 'CAPTCHA_197_.png', 'CAPTCHA_198_.png', 'CAPTCHA_199_.png', 'CAPTCHA_19_.png', 'CAPTCHA_1_.png', 'CAPTCHA_200_.png', 'CAPTCHA_201_.png', 'CAPTCHA_202_.png', 'CAPTCHA_203_.png', 'CAPTCHA_204_.png', 'CAPTCHA_205_.png', 'CAPTCHA_206_.png', 'CAPTCHA_207_.png', 'CAPTCHA_208_.png', 'CAPTCHA_209_.png', 'CAPTCHA_20_.png', 'CAPTCHA_210_.png', 'CAPTCHA_211_.png', 'CAPTCHA_212_.png', 'CAPTCHA_213_.png', 'CAPTCHA_214_.png', 'CAPTCHA_215_.png', 'CAPTCHA_216_.png', 'CAPTCHA_217_.png', 'CAPTCHA_218_.png', 'CAPTCHA_219_.png', 'CAPTCHA_21_.png', 'CAPTCHA_220_.png', 'CAPTCHA_221_.png', 'CAPTCHA_222_.png', 'CAPTCHA_223_.png', 'CAPTCHA_224_.png', 'CAPTCHA_225_.png', 'CAPTCHA_226_.png', 'CAPTCHA_227_.png', 'CAPTCHA_228_.png', 'CAPTCHA_229_.png', 'CAPTCHA_22_.png', 'CAPTCHA_230_.png', 'CAPTCHA_231_.png', 'CAPTCHA_232_.png', 'CAPTCHA_233_.png', 'CAPTCHA_234_.png', 'CAPTCHA_235_.png', 'CAPTCHA_236_.png', 'CAPTCHA_237_.png', 'CAPTCHA_238_.png', 'CAPTCHA_239_.png', 'CAPTCHA_23_.png', 'CAPTCHA_240_.png', 'CAPTCHA_241_.png', 'CAPTCHA_242_.png', 'CAPTCHA_243_.png', 'CAPTCHA_244_.png', 'CAPTCHA_245_.png', 'CAPTCHA_246_.png', 'CAPTCHA_247_.png', 'CAPTCHA_248_.png', 'CAPTCHA_249_.png', 'CAPTCHA_24_.png', 'CAPTCHA_250_.png', 'CAPTCHA_251_.png', 'CAPTCHA_252_.png', 'CAPTCHA_253_.png', 'CAPTCHA_254_.png', 'CAPTCHA_255_.png', 'CAPTCHA_256_.png', 'CAPTCHA_257_.png', 'CAPTCHA_258_.png', 'CAPTCHA_259_.png', 'CAPTCHA_25_.png', 'CAPTCHA_260_.png', 'CAPTCHA_261_.png', 'CAPTCHA_262_.png', 'CAPTCHA_263_.png', 'CAPTCHA_264_.png', 'CAPTCHA_265_.png', 'CAPTCHA_266_.png', 'CAPTCHA_267_.png', 'CAPTCHA_268_.png', 'CAPTCHA_269_.png', 'CAPTCHA_26_.png', 'CAPTCHA_270_.png', 'CAPTCHA_271_.png', 'CAPTCHA_272_.png', 'CAPTCHA_273_.png', 'CAPTCHA_274_.png', 'CAPTCHA_275_.png', 'CAPTCHA_276_.png', 'CAPTCHA_277_.png', 'CAPTCHA_278_.png', 'CAPTCHA_279_.png', 'CAPTCHA_27_.png', 'CAPTCHA_280_.png', 'CAPTCHA_281_.png', 'CAPTCHA_282_.png', 'CAPTCHA_283_.png', 'CAPTCHA_284_.png', 'CAPTCHA_285_.png', 'CAPTCHA_286_.png', 'CAPTCHA_287_.png', 'CAPTCHA_288_.png', 'CAPTCHA_289_.png', 'CAPTCHA_28_.png', 'CAPTCHA_290_.png', 'CAPTCHA_291_.png', 'CAPTCHA_292_.png', 'CAPTCHA_293_.png', 'CAPTCHA_294_.png', 'CAPTCHA_295_.png', 'CAPTCHA_296_.png', 'CAPTCHA_297_.png', 'CAPTCHA_298_.png', 'CAPTCHA_299_.png', 'CAPTCHA_29_.png', 'CAPTCHA_2_.png', 'CAPTCHA_300_.png', 'CAPTCHA_301_.png', 'CAPTCHA_302_.png', 'CAPTCHA_303_.png', 'CAPTCHA_304_.png', 'CAPTCHA_305_.png', 'CAPTCHA_306_.png', 'CAPTCHA_307_.png', 'CAPTCHA_30_.png', 'CAPTCHA_31_.png', 'CAPTCHA_32_.png', 'CAPTCHA_33_.png', 'CAPTCHA_34_.png', 'CAPTCHA_35_.png', 'CAPTCHA_36_.png', 'CAPTCHA_37_.png', 'CAPTCHA_38_.png', 'CAPTCHA_39_.png', 'CAPTCHA_3_.png', 'CAPTCHA_40_.png', 'CAPTCHA_41_.png', 'CAPTCHA_42_.png', 'CAPTCHA_43_.png', 'CAPTCHA_44_.png', 'CAPTCHA_45_.png', 'CAPTCHA_46_.png', 'CAPTCHA_47_.png', 'CAPTCHA_48_.png', 'CAPTCHA_49_.png', 'CAPTCHA_4_.png', 'CAPTCHA_50_.png', 'CAPTCHA_51_.png', 'CAPTCHA_52_.png', 'CAPTCHA_53_.png', 'CAPTCHA_54_.png', 'CAPTCHA_55_.png', 'CAPTCHA_56_.png', 'CAPTCHA_57_.png', 'CAPTCHA_58_.png', 'CAPTCHA_59_.png', 'CAPTCHA_5_.png', 'CAPTCHA_60_.png', 'CAPTCHA_61_.png', 'CAPTCHA_62_.png', 'CAPTCHA_63_.png', 'CAPTCHA_64_.png', 'CAPTCHA_65_.png', 'CAPTCHA_66_.png', 'CAPTCHA_67_.png', 'CAPTCHA_68_.png', 'CAPTCHA_69_.png', 'CAPTCHA_6_.png', 'CAPTCHA_70_.png', 'CAPTCHA_71_.png', 'CAPTCHA_72_.png', 'CAPTCHA_73_.png', 'CAPTCHA_74_.png', 'CAPTCHA_75_.png', 'CAPTCHA_76_.png', 'CAPTCHA_77_.png', 'CAPTCHA_78_.png', 'CAPTCHA_79_.png', 'CAPTCHA_7_.png', 'CAPTCHA_80_.png', 'CAPTCHA_81_.png', 'CAPTCHA_82_.png', 'CAPTCHA_83_.png', 'CAPTCHA_84_.png', 'CAPTCHA_85_.png', 'CAPTCHA_86_.png', 'CAPTCHA_87_.png', 'CAPTCHA_88_.png', 'CAPTCHA_89_.png', 'CAPTCHA_8_.png', 'CAPTCHA_90_.png', 'CAPTCHA_91_.png', 'CAPTCHA_92_.png', 'CAPTCHA_93_.png', 'CAPTCHA_94_.png', 'CAPTCHA_95_.png', 'CAPTCHA_96_.png', 'CAPTCHA_97_.png', 'CAPTCHA_98_.png', 'CAPTCHA_99_.png', 'CAPTCHA_9_.png']\n"
     ]
    }
   ],
   "source": [
    "import os\n",
    "\n",
    "folder = (r\"../HashTag_Reconhecimento_CAPTCHA/img/origem/\")\n",
    "i=0\n",
    "for file_name in os.listdir(folder):\n",
    "    i += 1\n",
    "    old_name = folder + file_name\n",
    "    new_name = folder + f'CAPTCHA_{i}_.png'\n",
    "    os.rename(old_name, new_name)\n",
    "print(os.listdir(folder))"
   ]
  }
 ],
 "metadata": {
  "kernelspec": {
   "display_name": "Python 3.10.8 64-bit (microsoft store)",
   "language": "python",
   "name": "python3"
  },
  "language_info": {
   "codemirror_mode": {
    "name": "ipython",
    "version": 3
   },
   "file_extension": ".py",
   "mimetype": "text/x-python",
   "name": "python",
   "nbconvert_exporter": "python",
   "pygments_lexer": "ipython3",
   "version": "3.10.8"
  },
  "orig_nbformat": 4,
  "vscode": {
   "interpreter": {
    "hash": "f7f8c097c8b77234b1554043a16e456bc3013eb7e1454957444d1d61c725966c"
   }
  }
 },
 "nbformat": 4,
 "nbformat_minor": 2
}
