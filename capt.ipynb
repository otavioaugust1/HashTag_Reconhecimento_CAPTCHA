{
 "cells": [
  {
   "cell_type": "code",
   "execution_count": 19,
   "metadata": {},
   "outputs": [],
   "source": [
    "import cv2\n",
    "import os\n",
    "import glob"
   ]
  },
  {
   "cell_type": "code",
   "execution_count": 20,
   "metadata": {},
   "outputs": [],
   "source": [
    "def tratar_imagens(pasta_origem='../Bot_cancelar_SISREG/img/origem/', pasta_destino='../Bot_cancelar_SISREG/img/destino/'):\n",
    "    arquivos = glob.glob(f\"{pasta_origem}/*\")\n",
    "    for arquivo in arquivos:\n",
    "        imagem = cv2.imread(arquivo)  # Coletar imagem\n",
    "        imagem_cinza = cv2.cvtColor(imagem, cv2.COLOR_RGB2GRAY) # imagem em cinza        \n",
    "        _, imagem_tratada = cv2.threshold(imagem_cinza, 0, 255, cv2.THRESH_BINARY) #realizar tratamento        \n",
    "        nome_arquivo = os.path.basename(arquivo) #nome do arquivo\n",
    "        cv2.imwrite(f'{pasta_destino}/{nome_arquivo}',imagem_tratada) #salvando o arquivo  \n",
    "\n",
    "        contornos, _ = cv2.findContours(imagem_tratada, cv2.RETR_EXTERNAL, cv2.CHAIN_APPROX_SIMPLE)  #localizando o contorno da letras\n",
    "        regiao_letras = []  #Região das letras para reconhecer \n",
    "        for contorno in contornos:\n",
    "            (x, y, largura, altura) = cv2.boundingRect(contorno)\n",
    "            area = cv2.contourArea(contorno)\n",
    "            if area > 115: # analisar caso a caso\n",
    "                regiao_letras.append((x, y, largura, altura))\n",
    "\n",
    "        imagem_final = cv2.merge([imagem]*3)  \n",
    "        \n",
    "        i = 0\n",
    "        for retangulo in regiao_letras:\n",
    "            x, y, largura, altura = retangulo\n",
    "            imagem_letra = imagem[y-2:y+altura+2, x-2:x+largura+2]\n",
    "            nome_arquivo = os.path.basename(arquivo).replace(\".png\", \"letra{i}.png\")\n",
    "\n",
    "            cv2.imwrite('../Bot_cancelar_SISREG/img/letras/',imagem_letra)\n",
    "\n",
    "\n",
    "\n",
    "\n",
    "\n"
   ]
  },
  {
   "cell_type": "code",
   "execution_count": 21,
   "metadata": {},
   "outputs": [
    {
     "ename": "NameError",
     "evalue": "name 'imagem' is not defined",
     "output_type": "error",
     "traceback": [
      "\u001b[1;31m---------------------------------------------------------------------------\u001b[0m",
      "\u001b[1;31mNameError\u001b[0m                                 Traceback (most recent call last)",
      "\u001b[1;32mc:\\Users\\otavi\\GitHub\\Bot_cancelar_SISREG\\capt.ipynb Célula: 3\u001b[0m in \u001b[0;36m<cell line: 1>\u001b[1;34m()\u001b[0m\n\u001b[1;32m----> <a href='vscode-notebook-cell:/c%3A/Users/otavi/GitHub/Bot_cancelar_SISREG/capt.ipynb#W4sZmlsZQ%3D%3D?line=0'>1</a>\u001b[0m imagem_final \u001b[39m=\u001b[39m cv2\u001b[39m.\u001b[39mmerge([imagem]\u001b[39m*\u001b[39m\u001b[39m3\u001b[39m)\n",
      "\u001b[1;31mNameError\u001b[0m: name 'imagem' is not defined"
     ]
    }
   ],
   "source": [
    "\n",
    "\n",
    "\n",
    "\n",
    "\n",
    "\n"
   ]
  },
  {
   "cell_type": "code",
   "execution_count": 18,
   "metadata": {},
   "outputs": [],
   "source": [
    "if __name__ == \"__main__\":\n",
    "    tratar_imagens()"
   ]
  },
  {
   "cell_type": "code",
   "execution_count": null,
   "metadata": {},
   "outputs": [],
   "source": []
  }
 ],
 "metadata": {
  "kernelspec": {
   "display_name": "Python 3.9.12 ('base')",
   "language": "python",
   "name": "python3"
  },
  "language_info": {
   "codemirror_mode": {
    "name": "ipython",
    "version": 3
   },
   "file_extension": ".py",
   "mimetype": "text/x-python",
   "name": "python",
   "nbconvert_exporter": "python",
   "pygments_lexer": "ipython3",
   "version": "3.9.12"
  },
  "orig_nbformat": 4,
  "vscode": {
   "interpreter": {
    "hash": "daefdd352b271c3d14e155b13dd66aa6af60dc8f125bf3f5b458163bb8ef8801"
   }
  }
 },
 "nbformat": 4,
 "nbformat_minor": 2
}
