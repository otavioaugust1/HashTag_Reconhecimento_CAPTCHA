{
 "cells": [
  {
   "cell_type": "code",
   "execution_count": null,
   "metadata": {},
   "outputs": [],
   "source": [
    "import cv2\n",
    "import os\n",
    "import glob\n",
    "\n",
    "def tratar_imagens(pasta_origem, pasta_destino='../Bot_cancelar_SISREG/img/destino/'):\n",
    "    arquivos = glob.glob(f\"{pasta_origem}/*\")\n",
    "    for arquivo in arquivos:\n",
    "        imagem = cv2.imread(arquivo)  # Coletar imagem\n",
    "        imagem_cinza = cv2.cvtColor(imagem, cv2.COLOR_RGB2GRAY) # imagem em cinza        \n",
    "        _, imagem_tratada = cv2.threshold(imagem_cinza, 0, 255, cv2.THRESH_BINARY) #realizar tratamento        \n",
    "        nome_arquivo = os.path.basename(arquivo) #nome do arquivo\n",
    "        cv2.imwrite(f'{pasta_destino}/{nome_arquivo}',imagem_tratada) #salvando o arquivo  \n",
    "\n",
    "if __name__ == \"__main__\":\n",
    "    tratar_imagens('../Bot_cancelar_SISREG/img/origem')"
   ]
  }
 ],
 "metadata": {
  "kernelspec": {
   "display_name": "Python 3.9.12 ('base')",
   "language": "python",
   "name": "python3"
  },
  "language_info": {
   "name": "python",
   "version": "3.9.12"
  },
  "orig_nbformat": 4,
  "vscode": {
   "interpreter": {
    "hash": "daefdd352b271c3d14e155b13dd66aa6af60dc8f125bf3f5b458163bb8ef8801"
   }
  }
 },
 "nbformat": 4,
 "nbformat_minor": 2
}
