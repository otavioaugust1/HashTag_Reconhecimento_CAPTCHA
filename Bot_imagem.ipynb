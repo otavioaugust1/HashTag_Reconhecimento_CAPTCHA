{
 "cells": [
  {
   "cell_type": "code",
   "execution_count": null,
   "metadata": {},
   "outputs": [],
   "source": [
    "#pip install opencv-python"
   ]
  },
  {
   "cell_type": "code",
   "execution_count": 1,
   "metadata": {},
   "outputs": [],
   "source": [
    "import cv2\n",
    "import os\n",
    "import glob\n",
    "\n",
    "def tratar_imagens(pasta_origem, pasta_destino='../HashTag_Reconhecimento_CAPTCHA/img/destino/'):\n",
    "    arquivos = glob.glob(f\"{pasta_origem}/*\")\n",
    "    for arquivo in arquivos:\n",
    "        imagem = cv2.imread(arquivo)  # Coletar imagem\n",
    "        imagem_cinza = cv2.cvtColor(imagem, cv2.COLOR_RGB2GRAY) # imagem em cinza        \n",
    "        _, imagem_tratada = cv2.threshold(imagem_cinza, 0, 255, cv2.THRESH_BINARY) #realizar tratamento        \n",
    "        nome_arquivo = os.path.basename(arquivo) #nome do arquivo\n",
    "        cv2.imwrite(f'{pasta_destino}/{nome_arquivo}',imagem_tratada) #salvando o arquivo  \n",
    "\n",
    "if __name__ == \"__main__\":\n",
    "    tratar_imagens('../HashTag_Reconhecimento_CAPTCHA/img/origem')"
   ]
  }
 ],
 "metadata": {
  "kernelspec": {
   "display_name": "Python 3.10.8 64-bit (microsoft store)",
   "language": "python",
   "name": "python3"
  },
  "language_info": {
   "codemirror_mode": {
    "name": "ipython",
    "version": 3
   },
   "file_extension": ".py",
   "mimetype": "text/x-python",
   "name": "python",
   "nbconvert_exporter": "python",
   "pygments_lexer": "ipython3",
   "version": "3.10.8"
  },
  "orig_nbformat": 4,
  "vscode": {
   "interpreter": {
    "hash": "f7f8c097c8b77234b1554043a16e456bc3013eb7e1454957444d1d61c725966c"
   }
  }
 },
 "nbformat": 4,
 "nbformat_minor": 2
}
